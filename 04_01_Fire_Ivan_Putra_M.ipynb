{
  "cells": [
    {
      "cell_type": "markdown",
      "metadata": {
        "id": "Mrq5s9WWYcAV"
      },
      "source": [
        "# Preparation"
      ]
    },
    {
      "cell_type": "markdown",
      "metadata": {
        "id": "QOGAR9QHYcAZ"
      },
      "source": [
        "Preparation biasa dilakukan untuk mempersiapkan data sebelum masuk dalam tahap pemodelan. <br>\n",
        "Berikut adalah tahapan yang akan dilalui pada data `SC_HW1_bank_data.csv` sebelum tahap pemodelan :\n",
        "1. Import Library\n",
        "2. Input Dataset\n",
        "3. Preprocessing\n",
        "4. Train-Test Split"
      ]
    },
    {
      "cell_type": "markdown",
      "metadata": {
        "id": "RUIg363RYcAZ"
      },
      "source": [
        "## Import Library"
      ]
    },
    {
      "cell_type": "code",
      "execution_count": null,
      "metadata": {
        "id": "CWrO8BImYcAa"
      },
      "outputs": [],
      "source": [
        "import pandas as pd\n",
        "import numpy as np"
      ]
    },
    {
      "cell_type": "markdown",
      "metadata": {
        "id": "p_wYppbCYcAb"
      },
      "source": [
        "## Input Dataset"
      ]
    },
    {
      "cell_type": "code",
      "execution_count": null,
      "metadata": {
        "id": "bU29IupsYcAb"
      },
      "outputs": [],
      "source": [
        "#Membaca data dan memasukkannya ke dalam bentuk Pandas Dataframe\n",
        "df = pd.read_csv('https://raw.githubusercontent.com/Rietaros/kampus_merdeka/main/SC_HW1_bank_data.csv')"
      ]
    },
    {
      "cell_type": "code",
      "execution_count": null,
      "metadata": {
        "id": "V7swrXGTYcAc",
        "colab": {
          "base_uri": "https://localhost:8080/"
        },
        "outputId": "d6fb5cf5-a4a1-4690-c78a-1dda1dae1f72"
      },
      "outputs": [
        {
          "output_type": "execute_result",
          "data": {
            "text/plain": [
              "Index(['RowNumber', 'CustomerId', 'Geography', 'Gender', 'Age', 'Tenure',\n",
              "       'Balance', 'NumOfProducts', 'HasCrCard', 'IsActiveMember',\n",
              "       'EstimatedSalary', 'Exited'],\n",
              "      dtype='object')"
            ]
          },
          "metadata": {},
          "execution_count": 4
        }
      ],
      "source": [
        "#Jalankan code untuk mengecek nama kolom yang tersedia\n",
        "df.columns"
      ]
    },
    {
      "cell_type": "code",
      "source": [
        "#Hilangkan kolom yang dirasa tidak relevan dengan model (contoh: ID). None dapat diisi dengan nama-nama kolom yang akan digunakan.\n",
        "#Contoh df = df[['X1','X2', 'Y']].copy()\n",
        "\n",
        "#START CODE\n",
        "df = df[['Geography', 'Gender', 'Age', 'Tenure', 'Balance', 'NumOfProducts', 'HasCrCard', 'IsActiveMember', 'EstimatedSalary', 'Exited']].copy()"
      ],
      "metadata": {
        "id": "MkJS3LKHeUbZ"
      },
      "execution_count": null,
      "outputs": []
    },
    {
      "cell_type": "code",
      "execution_count": null,
      "metadata": {
        "id": "ySBcdpGy4rb3",
        "colab": {
          "base_uri": "https://localhost:8080/"
        },
        "outputId": "0251e40f-30bf-433c-9f28-1f928da41773"
      },
      "outputs": [
        {
          "output_type": "execute_result",
          "data": {
            "text/plain": [
              "Geography          category\n",
              "Gender             category\n",
              "Age                   int64\n",
              "Tenure                int64\n",
              "Balance             float64\n",
              "NumOfProducts         int64\n",
              "HasCrCard             int64\n",
              "IsActiveMember        int64\n",
              "EstimatedSalary     float64\n",
              "Exited                int64\n",
              "dtype: object"
            ]
          },
          "metadata": {},
          "execution_count": 6
        }
      ],
      "source": [
        "data_object = df.select_dtypes(include = [\"object\"]).columns\n",
        "\n",
        "for column in data_object:\n",
        "  df[column] = df[column].astype(\"category\")\n",
        "\n",
        "df.dtypes"
      ]
    },
    {
      "cell_type": "markdown",
      "metadata": {
        "id": "VAUrcQVIYcAe"
      },
      "source": [
        "## Preprocessing"
      ]
    },
    {
      "cell_type": "code",
      "execution_count": null,
      "metadata": {
        "id": "owVHMXqEYcAe"
      },
      "outputs": [],
      "source": [
        "#Lakukan One-Hot Encoder untuk data categorical, dengan fungsi pandas get_dummies\n",
        "\n",
        "#START CODE\n",
        "df = pd.get_dummies(df, columns=['Geography', 'Gender'])"
      ]
    },
    {
      "cell_type": "code",
      "execution_count": null,
      "metadata": {
        "id": "zMNWzfUbYcAf"
      },
      "outputs": [],
      "source": [
        "#Pisahkan mana X (feature) dengan Y,\n",
        "#Y adalah kolom \"Exited\"\n",
        "\n",
        "#START CODE\n",
        "X = df.drop(columns=['Exited'])\n",
        "y = df[['Exited']]"
      ]
    },
    {
      "cell_type": "code",
      "execution_count": null,
      "metadata": {
        "id": "XWfdSiCxYcAg"
      },
      "outputs": [],
      "source": [
        "#Lakukan Scaler dan/atau Noermalisasi jika diperlukan\n",
        "from sklearn.preprocessing import MinMaxScaler\n",
        "\n",
        "#START CODE\n",
        "scaler = MinMaxScaler()\n",
        "X_transform = scaler.fit_transform(X)"
      ]
    },
    {
      "cell_type": "code",
      "execution_count": null,
      "metadata": {
        "id": "W5u5pH3uYcAg"
      },
      "outputs": [],
      "source": [
        "#Ini digunakan jika dilakukan scaler/Normalisas. Jika tidak, code ini bisa dilewat dan diganti dengan code yang ada di dalam komen\n",
        "X_transform = pd.DataFrame(X_transform, columns = X.columns)\n",
        "#X_transform = X.copy()"
      ]
    },
    {
      "cell_type": "markdown",
      "metadata": {
        "id": "4Pi0qKQAYcAh"
      },
      "source": [
        "## Train-Test Split"
      ]
    },
    {
      "cell_type": "code",
      "execution_count": null,
      "metadata": {
        "id": "0RDnybGDYcAh"
      },
      "outputs": [],
      "source": [
        "#Split menjadi train dan test dengan test_size 25%\n",
        "#Tidak perlu mengubah code ini\n",
        "\n",
        "from sklearn.model_selection import train_test_split\n",
        "X_train,X_test,y_train,y_test = train_test_split(X_transform,y,test_size = 0.25,random_state = 123)"
      ]
    },
    {
      "cell_type": "markdown",
      "metadata": {
        "id": "3hIL9sbPYcAh"
      },
      "source": [
        "# Modeling"
      ]
    },
    {
      "cell_type": "markdown",
      "metadata": {
        "id": "9PPYhjm3YcAi"
      },
      "source": [
        "## Model1"
      ]
    },
    {
      "cell_type": "markdown",
      "metadata": {
        "id": "Lt2iNWWTYcAj"
      },
      "source": [
        "### Soal :\n",
        "Jelaskan secara Singkat Model pertama yang digunakan!"
      ]
    },
    {
      "cell_type": "code",
      "execution_count": null,
      "metadata": {
        "id": "bnqFXuCyYcAk",
        "colab": {
          "base_uri": "https://localhost:8080/"
        },
        "outputId": "74a2251f-0921-4e7e-976c-ffc34d6123e8"
      },
      "outputs": [
        {
          "output_type": "stream",
          "name": "stdout",
          "text": [
            "Parameter terbaik: {'C': 0.5, 'tol': 0.1}\n"
          ]
        },
        {
          "output_type": "stream",
          "name": "stderr",
          "text": [
            "/usr/local/lib/python3.10/dist-packages/sklearn/utils/validation.py:1143: DataConversionWarning: A column-vector y was passed when a 1d array was expected. Please change the shape of y to (n_samples, ), for example using ravel().\n",
            "  y = column_or_1d(y, warn=True)\n"
          ]
        }
      ],
      "source": [
        "#Pilih salah satu metode Machine Leaarning\n",
        "#Model Machine Learning dapat dipanggil terlebih dahulu melalui library yang digunakan. Gunakan library scikit learn seperti pada contoh\n",
        "\n",
        "#Contoh pemanggilan library dan penggunaannya dalam model\n",
        "\n",
        "#from sklearn.linear_model import LogisticRegression\n",
        "#model1 = LogisticRegression()\n",
        "#params = { \"tol\": [0.1,0.01,0.001], 'C':[0.5,1.0,1.5,2.0]}\n",
        "\n",
        "\n",
        "#START CODE\n",
        "from sklearn.linear_model import LogisticRegression\n",
        "from sklearn.model_selection import GridSearchCV\n",
        "\n",
        "model1 = LogisticRegression()\n",
        "params = {\n",
        "    'tol': [0.1, 0.01, 0.001],\n",
        "    'C': [0.5, 1.0, 1.5, 2.0]\n",
        "}\n",
        "\n",
        "grid = GridSearchCV(\n",
        "    estimator=model1,\n",
        "    param_grid=params,\n",
        "    scoring='accuracy',\n",
        "    n_jobs=10,\n",
        "    cv=10\n",
        ")\n",
        "\n",
        "grid.fit(X_train, y_train)\n",
        "\n",
        "best_params = grid.best_params_\n",
        "print(\"Parameter terbaik:\", best_params)"
      ]
    },
    {
      "cell_type": "code",
      "execution_count": null,
      "metadata": {
        "id": "1f32JE8kYcAk",
        "colab": {
          "base_uri": "https://localhost:8080/"
        },
        "outputId": "905a6ee4-a281-490e-b4d9-715899d35889"
      },
      "outputs": [
        {
          "output_type": "stream",
          "name": "stdout",
          "text": [
            "Classification Report:\n",
            "              precision    recall  f1-score   support\n",
            "\n",
            "           0       0.82      0.97      0.89      1983\n",
            "           1       0.66      0.20      0.31       517\n",
            "\n",
            "    accuracy                           0.81      2500\n",
            "   macro avg       0.74      0.59      0.60      2500\n",
            "weighted avg       0.79      0.81      0.77      2500\n",
            "\n",
            "\n",
            "Confusion Matrix:\n",
            "[[1929   54]\n",
            " [ 412  105]]\n",
            "\n",
            "Accuracy: 0.8136\n"
          ]
        }
      ],
      "source": [
        "#lakukan evaluasi dengan beberapa maetric di bawah ini\n",
        "from sklearn.metrics import classification_report\n",
        "from sklearn.metrics import accuracy_score\n",
        "from sklearn.metrics import confusion_matrix\n",
        "\n",
        "y_pred = grid.predict(X_test)\n",
        "\n",
        "print(\"Classification Report:\")\n",
        "print(classification_report(y_test, y_pred))\n",
        "\n",
        "print(\"\\nConfusion Matrix:\")\n",
        "print(confusion_matrix(y_test, y_pred))\n",
        "\n",
        "accuracy = accuracy_score(y_test, y_pred)\n",
        "print(\"\\nAccuracy:\", accuracy)"
      ]
    },
    {
      "cell_type": "markdown",
      "metadata": {
        "id": "LXuooROd4rb8"
      },
      "source": [
        "## Model2\n",
        "### Soal :\n",
        "Jelaskan secara Singkat Model ke-2 yang digunakan!"
      ]
    },
    {
      "cell_type": "code",
      "execution_count": null,
      "metadata": {
        "id": "HfJRofJL4rb8",
        "colab": {
          "base_uri": "https://localhost:8080/"
        },
        "outputId": "315fce0c-ac25-4692-9118-b679314e626f"
      },
      "outputs": [
        {
          "output_type": "stream",
          "name": "stdout",
          "text": [
            "Parameter terbaik: {'n_neighbors': 7, 'p': 1, 'weights': 'distance'}\n"
          ]
        },
        {
          "output_type": "stream",
          "name": "stderr",
          "text": [
            "/usr/local/lib/python3.10/dist-packages/sklearn/neighbors/_classification.py:215: DataConversionWarning: A column-vector y was passed when a 1d array was expected. Please change the shape of y to (n_samples,), for example using ravel().\n",
            "  return self._fit(X, y)\n"
          ]
        }
      ],
      "source": [
        "#Pilih salah satu metode Machine Leaarning\n",
        "#Model Machine Learning dapat dipanggil terlebih dahulu melalui library yang digunakan. Gunakan library scikit learn seperti pada contoh\n",
        "\n",
        "#Contoh pemanggilan library dan penggunaannya dalam model\n",
        "\n",
        "#from sklearn.linear_model import LogisticRegression\n",
        "#model1 = LogisticRegression()\n",
        "#params = { \"tol\": [0.1,0.01,0.001], 'C':[0.5,1.0,1.5,2.0]}\n",
        "\n",
        "\n",
        "#START CODE\n",
        "from sklearn.neighbors import KNeighborsClassifier\n",
        "from sklearn.model_selection import GridSearchCV\n",
        "\n",
        "model2 = KNeighborsClassifier()\n",
        "\n",
        "params = {\n",
        "    'n_neighbors': [3, 5, 7],\n",
        "    'weights': ['uniform', 'distance'],\n",
        "    'p': [1, 2]\n",
        "}\n",
        "\n",
        "grid = GridSearchCV(\n",
        "    estimator=model2,\n",
        "    param_grid=params,\n",
        "    scoring='accuracy',\n",
        "    n_jobs=10,\n",
        "    cv=10\n",
        ")\n",
        "\n",
        "grid.fit(X_train, y_train)\n",
        "\n",
        "best_params = grid.best_params_\n",
        "print(\"Parameter terbaik:\", best_params)"
      ]
    },
    {
      "cell_type": "code",
      "execution_count": null,
      "metadata": {
        "id": "GOZ6oeyW4rb9",
        "colab": {
          "base_uri": "https://localhost:8080/"
        },
        "outputId": "4164ab21-fe96-4647-ecae-041184f338db"
      },
      "outputs": [
        {
          "output_type": "stream",
          "name": "stdout",
          "text": [
            "Classification Report:\n",
            "              precision    recall  f1-score   support\n",
            "\n",
            "           0       0.85      0.95      0.89      1983\n",
            "           1       0.63      0.34      0.45       517\n",
            "\n",
            "    accuracy                           0.82      2500\n",
            "   macro avg       0.74      0.65      0.67      2500\n",
            "weighted avg       0.80      0.82      0.80      2500\n",
            "\n",
            "\n",
            "Confusion Matrix:\n",
            "[[1879  104]\n",
            " [ 339  178]]\n",
            "\n",
            "Accuracy: 0.8228\n"
          ]
        }
      ],
      "source": [
        "#lakukan evaluasi\n",
        "from sklearn.metrics import classification_report\n",
        "from sklearn.metrics import accuracy_score\n",
        "from sklearn.metrics import confusion_matrix\n",
        "\n",
        "y_pred = grid.predict(X_test)\n",
        "\n",
        "print(\"Classification Report:\")\n",
        "print(classification_report(y_test, y_pred))\n",
        "\n",
        "print(\"\\nConfusion Matrix:\")\n",
        "print(confusion_matrix(y_test, y_pred))\n",
        "\n",
        "accuracy = accuracy_score(y_test, y_pred)\n",
        "print(\"\\nAccuracy:\", accuracy)"
      ]
    },
    {
      "cell_type": "markdown",
      "metadata": {
        "id": "poj5B7fF4rb9"
      },
      "source": [
        "## Model3\n",
        "### Soal :\n",
        "Jelaskan secara Singkat Model ke-3 yang digunakan!"
      ]
    },
    {
      "cell_type": "code",
      "execution_count": null,
      "metadata": {
        "id": "O6riqEA74rb9",
        "colab": {
          "base_uri": "https://localhost:8080/"
        },
        "outputId": "e81924ff-00ce-423c-d74c-632b4ad6adc2"
      },
      "outputs": [
        {
          "output_type": "stream",
          "name": "stderr",
          "text": [
            "/usr/local/lib/python3.10/dist-packages/sklearn/model_selection/_search.py:909: DataConversionWarning: A column-vector y was passed when a 1d array was expected. Please change the shape of y to (n_samples,), for example using ravel().\n",
            "  self.best_estimator_.fit(X, y, **fit_params)\n"
          ]
        },
        {
          "output_type": "stream",
          "name": "stdout",
          "text": [
            "Parameter terbaik: {'max_depth': 10, 'min_samples_leaf': 5, 'min_samples_split': 2, 'n_estimators': 200}\n"
          ]
        }
      ],
      "source": [
        "#Pilih salah satu metode Machine Leaarning\n",
        "#Model Machine Learning dapat dipanggil terlebih dahulu melalui library yang digunakan. Gunakan library scikit learn seperti pada contoh\n",
        "\n",
        "#Contoh pemanggilan library dan penggunaannya dalam model\n",
        "\n",
        "#from sklearn.linear_model import LogisticRegression\n",
        "#model1 = LogisticRegression()\n",
        "#params = { \"tol\": [0.1,0.01,0.001], 'C':[0.5,1.0,1.5,2.0]}\n",
        "\n",
        "\n",
        "#START CODE\n",
        "from sklearn.ensemble import RandomForestClassifier\n",
        "from sklearn.model_selection import GridSearchCV\n",
        "\n",
        "model3 = RandomForestClassifier()\n",
        "\n",
        "params = {\n",
        "    'n_estimators': [50, 100, 200, 300],  # Jumlah pohon dalam ensemble\n",
        "    'max_depth': [5, 10, 20, 30],  # Kedalaman maksimum setiap pohon\n",
        "    'min_samples_split': [2, 5, 10],  # Jumlah sampel minimum untuk membagi simpul internal\n",
        "    'min_samples_leaf': [1, 2, 4, 5, 10, 20],  # Jumlah sampel minimum di setiap daun pohon\n",
        "}\n",
        "\n",
        "grid = GridSearchCV(\n",
        "    estimator=model3,\n",
        "    param_grid=params,\n",
        "    scoring='accuracy',\n",
        "    n_jobs=10,\n",
        "    cv=10\n",
        ")\n",
        "\n",
        "grid.fit(X_train, y_train)\n",
        "\n",
        "best_params = grid.best_params_\n",
        "print(\"Parameter terbaik:\", best_params)"
      ]
    },
    {
      "cell_type": "code",
      "execution_count": null,
      "metadata": {
        "id": "4D60gsBj4rb9",
        "colab": {
          "base_uri": "https://localhost:8080/"
        },
        "outputId": "0ff68f35-8063-46f6-f1ca-15e0905e8d2a"
      },
      "outputs": [
        {
          "output_type": "stream",
          "name": "stdout",
          "text": [
            "Classification Report:\n",
            "              precision    recall  f1-score   support\n",
            "\n",
            "           0       0.87      0.97      0.92      1983\n",
            "           1       0.78      0.44      0.56       517\n",
            "\n",
            "    accuracy                           0.86      2500\n",
            "   macro avg       0.83      0.70      0.74      2500\n",
            "weighted avg       0.85      0.86      0.84      2500\n",
            "\n",
            "\n",
            "Confusion Matrix:\n",
            "[[1921   62]\n",
            " [ 291  226]]\n",
            "\n",
            "Accuracy: 0.8588\n"
          ]
        }
      ],
      "source": [
        "#lakukan evaluasi\n",
        "from sklearn.metrics import classification_report\n",
        "from sklearn.metrics import accuracy_score\n",
        "from sklearn.metrics import confusion_matrix\n",
        "\n",
        "y_pred = grid.predict(X_test)\n",
        "\n",
        "print(\"Classification Report:\")\n",
        "print(classification_report(y_test, y_pred))\n",
        "\n",
        "print(\"\\nConfusion Matrix:\")\n",
        "print(confusion_matrix(y_test, y_pred))\n",
        "\n",
        "accuracy = accuracy_score(y_test, y_pred)\n",
        "print(\"\\nAccuracy:\", accuracy)"
      ]
    },
    {
      "cell_type": "markdown",
      "metadata": {
        "id": "Blfl1F2M4rb-"
      },
      "source": [
        "## Tarik Kesimpulan Model Mana yang terbaik beserta alasannya"
      ]
    },
    {
      "cell_type": "markdown",
      "source": [
        "Dari ketiga model di atas di dapat akurasi sebagai berikut:\n",
        "1. Logistic Regression: 0.8136\n",
        "2. K-Nearest Neighbors (K-NN): 0.8228\n",
        "3. Random Forest: 0.8588\n",
        "\n",
        "Oleh karena itu, di antara ketiga model yang digunakan, Random Forest dianggap sebagai pilihan terbaik. karena random forest memilii akurasi yang lebih tinggi dibandingkan dengan model lainnya. Model ini memiliki keunggulan dalam menangani masalah non-linear dan memiliki kemampuan ensemble yang dapat meningkatkan akurasi. Selain itu, Random Forest biasanya lebih tahan terhadap overfitting daripada model lainnya. Meskipun begitu, perlu diingat bahwa penggunaan Random Forest dengan jumlah tree yang sangat besar dapat memakan waktu yang cukup lama, sehingga perlu dilakukan tuning hyperparameter dengan hati-hati."
      ],
      "metadata": {
        "id": "1qCMY7zRYPoD"
      }
    }
  ],
  "metadata": {
    "colab": {
      "provenance": []
    },
    "kernelspec": {
      "display_name": "Python 3",
      "language": "python",
      "name": "python3"
    },
    "language_info": {
      "codemirror_mode": {
        "name": "ipython",
        "version": 3
      },
      "file_extension": ".py",
      "mimetype": "text/x-python",
      "name": "python",
      "nbconvert_exporter": "python",
      "pygments_lexer": "ipython3",
      "version": "3.8.8"
    },
    "toc-autonumbering": true,
    "toc-showcode": false,
    "toc-showmarkdowntxt": false
  },
  "nbformat": 4,
  "nbformat_minor": 0
}